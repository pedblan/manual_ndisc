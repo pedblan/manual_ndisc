{
 "cells": [
  {
   "metadata": {
    "collapsed": true,
    "ExecuteTime": {
     "end_time": "2025-08-26T17:42:25.559829Z",
     "start_time": "2025-08-26T17:42:25.503382Z"
    }
   },
   "cell_type": "code",
   "source": [
    "%load_ext autoreload\n",
    "%autoreload 2"
   ],
   "id": "initial_id",
   "outputs": [],
   "execution_count": 1
  },
  {
   "metadata": {},
   "cell_type": "markdown",
   "source": [
    "### Tarefa: analisar banco de dados com LLM em busca das figuras de cada discurso\n",
    "-\n",
    "- Pseudocode\n",
    "    - logar na openai\n",
    "    - preparar json_schema\n",
    "    - testar em uma demanda simples\n",
    "    - preparar batch de 1000\n",
    "    - testar resultado com colegas\n",
    "    -"
   ],
   "id": "9899df08c2729db4"
  },
  {
   "metadata": {
    "ExecuteTime": {
     "end_time": "2025-08-26T17:44:03.531314Z",
     "start_time": "2025-08-26T17:42:28.384792Z"
    }
   },
   "cell_type": "code",
   "source": [
    "from src.chamada_openai_demanda_simples import analisar_figuras\n",
    "\n",
    "discurso = \"\"\"    O SR. PAULO BAUER (Bloco Oposição/PSDB - SC. Pronuncia o seguinte discurso. Sem revisão do orador.) - Srªs Senadoras, Srs. Senadores, eu cumprimento V. Exªs e todos ouvintes e telespectadores da Rádio e TV Senado.\n",
    "    Eu ocupo a tribuna, neste instante, para também me referir ao assunto aqui abordado, e muito bem colocado, pelo Senador Ricardo Ferraço, a quem não aparteei, exatamente, porque eu falaria em seguida, mas faço de suas palavras também as minhas.\n",
    "    Devo mostrar, Sr. Presidente, a V. Exª, a todos os Senadores e ao Brasil inteiro a primeira imagem da revista IstoÉ no Congresso Nacional, no ambiente do Senado Federal - esta é a primeira que chegou a Brasília. A IstoÉ de hoje traz a manchete como matéria de capa: \"Delcídio conta tudo\".\n",
    "    Quando lemos o teor da reportagem, Senador Dário Berger, sem dúvida nenhuma, ficamos muito assustados, bastante envergonhados e também tristes, porque, hoje, sem dúvida nenhuma, é um dia diferente na história do Brasil. É um dia diferente, porque um Senador da República com mais de 12 anos de mandato, pertencente ao Partido dos Trabalhadores, que aqui nesta Casa liderou e representou o Governo, é anunciado numa reportagem de uma grande revista nacional como aquele que abre o jogo, que conta a verdade, que propõe ao Judiciário a delação premiada que, agora, como aparece na imprensa, enfoca e abrange tudo e todos, desde a Presidente da República até os doleiros, os corruptos, os detentores de cargos públicos neste Governo que já deveria ter terminado há tempo - se possível, na última eleição. Ele conseguiu sobreviver, Senador José Serra, graças à mentira; conseguiu sobreviver graças às pedaladas; conseguiu sobreviver graças a toda a artimanha e toda a ação desenvolvida no campo social, iludindo os desempregados, iludindo as pessoas de bem, iludindo os próprios trabalhadores, porque sempre disse que, em nome deles, governava e pretendia continuar governando.\n",
    "    Eu tenho certeza de que nós vamos aqui, hoje e agora, assistir a várias manifestações, como já vimos a manifestação da Senadora Gleisi Hoffmann, defendendo o Governo. Mas como defender, se este Governo passa a ser indefensável? Este Governo não tem mais condições e credibilidade para continuar, porque agora não é mais a oposição que fala, não é mais a imprensa que fala. Agora quem fala é um dos seus filiados mais ilustre, nosso colega, que aqui conosco trabalhou por muito tempo.\n",
    "    Nós temos a certeza e a convicção de que, comprovados esses fatos e essas notícias, nós vamos ter que fazer com que a Justiça no Brasil e a polícia brasileira se desenvolvam e façam, acima de tudo, com que a lei prevaleça, façam com que nós tenhamos punição para culpados de atos ilegais. Nós precisamos que essa matéria se transforme, acima de tudo, em assunto policial, em assunto legal, e tenha repercussão, doa a quem doer.\n",
    "    Eu diria, Srs. Senadores, que a palavra mais certa para se pronunciar hoje é exatamente a palavra \"renúncia\", porque, se isso tudo aqui efetivamente for verdadeiro e for comprovado, nós nem podemos aguardar um processo de impeachment. Nós nem podemos mais aguardar um processo no Tribunal Superior Eleitoral que investiga o uso de dinheiro ilegal em campanha eleitoral, não importando se a campanha é de 2010, Senador José Serra - aquela que V. Exª disputou -, ou se é de 2014, que o Senador Aécio Neves disputou. Nós queremos, acima de tudo, justiça e lei neste País. E, se esses fatos forem comprovados, não há por que esperar que o Judiciário, que o processo todo se desenvolva.\n",
    "    Talvez reste algum valor democrático na consciência da Presidente e de tantos outros que a cercam e ela acabe por deixar o cargo espontaneamente para que o Brasil siga em frente. Afinal, muitos confiaram nela, e muitos talvez ainda até confiem, mas, ela e o seu Governo, com certeza, a partir de hoje, perderam toda a credibilidade, qualquer credibilidade.\n",
    "    Cem por cento da credibilidade do Governo está absolutamente perdida, porque -volto a dizer - as informações que estão inseridas na reportagem da revista IstoÉ, que já repercutiram em outras redes de televisão e em todos os meios de comunicação, são muito graves. Dizem respeito ao uso do poder, do cargo, da autoridade pública, para colocar Ministros em posições de destaque, como, por exemplo, no Superior Tribunal de Justiça, desde que houvesse um comprometimento daquela autoridade, aqui sabatinada no Senado, de facilitar a vida desse ou daquele que se viu envolvido nas denúncias que a Operação Lava Jato produziu.\n",
    "    Aqui está a revista, que faz uma matéria muito ampla, com base naquilo que foi anunciado e dito pelo Senador Delcídio para a Polícia Federal e para o Ministério Público. Se tudo isso for verdade, posso dizer a V. Exªs que não temos outra opção: temos que dizer ao Brasil que o Senado da República vai cumprir com o seu papel, que o Senado da República não vai permitir que o Brasil seja comandado e administrado por quem não tem crédito, não tem credibilidade, não tem respeito pelo povo e não tem, acima de tudo, autoridade moral para continuar dirigindo os destinos do País.\n",
    "    Para encerrar, Sr. Presidente - acho que seria impossível ler aqui toda a matéria, toda a reportagem -, é preciso ler o editorial da revista IstoÉ. O editorial, como todos sabem, é a matéria, é o texto que mostra e demonstra o que própria revista pensa sobre os fatos e por que ela deu a notícia.\n",
    "    Diz o editorial da revista IstoÉ, editada hoje:\n",
    "Imagine você não gostar da autoridade que lhe investiga e, por esse critério, poder decidir que não vai depor quando convocado.\n",
    "Imagine você não gostar da autoridade que lhe investiga e, por esse critério, poder decidir que não vai depor quando convocado. Imagine-se imbuído do direito de escolher o ministro da Justiça mais adequado as suas conveniências pessoais e dotado da força para destituir ao bel prazer aquele que lhe contrariou por deixar prender um dos seus mais diletos amigos - ainda que por justificadas provas de irregularidades cometidas.\n",
    "(Soa a campainha.)\n",
    "    O SR. PAULO BAUER (Bloco Oposição/PSDB - SC) -\n",
    "No desmedido impulso tirânico você poderia ainda convidar para o lugar desse ministro alguém capaz de “enquadrar a Polícia Federal” e evitar que a polícia cometa o supremo “abuso” de averiguar suspeitas de favorecimento que pesam contra a sua pessoa.\n",
    "Não importa a autonomia que a Carta Magna garante às instituições em sociedades democráticas como a brasileira. Prevalece apenas e tão somente a sua absoluta vontade de ditar os rumos, estabelecer o certo e o errado, conceder e retirar autoridade a aliados e detratores. Mortais comuns não podem contar com tais regalias. Já petistas de alta patente como Lula e Dilma demonstram compartilhar desse pensamento e, por isso mesmo, levaram às raias do insustentável as pressões para que José Eduardo Cardozo deixasse a pasta da Justiça na semana passada, na mais escrachada demonstração de que querem castrar a liberdade dos investigadores e esvaziar a Lava Jato - hoje convertida na grande esperança de resgate moral da sociedade.\n",
    "Cardozo foi sumariamente ejetado da pasta por adotar o princípio republicano de resistir a interferências indevidas na PF. Lula não estava gostando nada das apurações que o apontam como beneficiário de empreiteiras em obras e “presentinhos” nos dois imóveis destinados a usufruto familiar. Também torcia o nariz para o que considerava “falta de pulso” do ministro. Fez gestões para detoná-lo, assim como partiu para cima de magistrados e procuradores, acusando-os publicamente de perseguição. Fez mais: mandou seus advogados avisarem que não iria prestar depoimento na condição de investigado, desqualificando o interpelante e afrontando um membro do Ministério Público.\n",
    "Dilma, por sua vez, ficou absolutamente possessa - segundo relatos de assessores próximos - quando soube da prisão do marqueteiro e confidente João Santana. Foi o suficiente para selar o destino de Cardozo. O ego exacerbado e uma indisfarçável sensação de pairar acima da lei parecem mover Lula, em especial. Na festa de aniversário do seu partido, na segunda-feira 29, ele explodiu aos berros: “estou de saco cheio”. [É a expressão usada.] Referia-se ao Ministério Público, à Polícia Federal e à Imprensa. Em resumo: todos que, acredita ele, estão mancomunados para manchar sua reputação. A avalanche de evidências e os depoimentos dando conta de que recebeu vantagens, inclusive no cargo de presidente, seriam detalhe. Não valem no seu discernimento. Lula se considera um cidadão especial, um messias intocável, ora ignorando os fatos ao redor, ora convertendo em meras intrigas da oposição os atos desabonadores dos quais é acusado. Com essa postura não convence nem mais a própria militância e desaba nas pesquisas de opinião. O líder de massas, o onipresente detentor da “alma mais honesta deste País” se furta a dar explicações. Prefere atacar com impropérios. Intimidar com ameaças. Tripudiar. Posar de vítima “das elites” e instigar chicanas que adiem seu confronto com a justiça.\n",
    "Até quando? Ao invés desse teatro de subterfúgios, pedalando na defesa e escondendo os pedalinhos como benesses corriqueiras, Lula deveria reunir argumentos consistentes para responder aos juízes, a quem chama de “acovardados” - como a confundir tribunais com uma peleja futebolística de onde pode xingar quem zela pelas regras. Do contrário, deve parar atrás das grades. Lula não é intocável, como também não o é sua sucessora e discípula, Dilma. A Presidente, cada vez mais encalacrada, cede às injunções desabonadoras do PT. Entrou em “modo de negação”. Desistiu de governar.\n",
    "A cada dia, a cada nova confissão de executivos presos e de políticos que lhe cercam, vai demonstrando que teve conhecimento, se beneficiou diretamente e em vários momentos participou de forma ativa do gigantesco esquema que deu sustentação a seu mandato com desvios e falcatruas de toda ordem. O bombástico depoimento do Senador petista Delcídio do Amaral à polícia, publicado com exclusividade por IstoÉ nesta edição, dá claras evidências dá claras evidências de que Dilma Rousseff incorreu em crimes de responsabilidade que deveriam levar a sua imediata deposição. Pelo Congresso e pela justiça.\n",
    "Para a grande maioria dos brasileiros é anacrônico o País seguir nessa rota de desmandos indefinidamente. A Presidente já perdeu as condições de dirigir a Nação, como atestam as delações premiadas, escancarando a farsa petista para se garantir no poder. Não há como ser indulgente com ilícitos, nem impassível diante da ladroagem endêmica. A continuar nessa toada, com caixa dois de campanha, articulações para manter salafrários em estatais e toda sorte de pilhagem, a moral do País vai virar pó. É preciso um basta à depravação política.\n",
    "    Devo-lhes dizer, senhoras e senhores, que esse é um texto que a revista IstoÉ de hoje publica como sendo seu editorial, que retrata, com muita clareza, o que certamente a grande maioria dos brasileiros está sentindo hoje.\n",
    "    Agradeço, Sr. Presidente, a benevolência de V. Exª e devo dizer que esta Casa, lamentavelmente, hoje, quinta-feira, por não ter uma pauta de votações extensa, que reunisse e obrigasse todos os Senadores a aqui estarem presentes, está um pouco silenciosa. Mas certamente as ruas do Brasil não estão, a imprensa não está, a oposição não está, e aqueles que querem o bem deste País também não estão. A nossa vigilância, a nossa atuação, o nosso trabalho será constante. Queremos tudo esclarecido. E digo mais: queremos todos os brasileiros nas ruas, no dia 13 de março.\n",
    "    Vamos todos, com nossas bandeiras, com nosso grito, com nossa coragem, com nossa humildade, mas principalmente com nossa honra, dizer: chega de PT! Chega, Dilma! Não queremos mais! Vocês não podem e não têm mais condições de governar este País!\n",
    "    Chegou a hora de falarmos seriamente, de revogarmos aquilo que nas eleições o PT conseguiu e conquistou: uma vitória à base de mentira, uma vitória à base de falácia.\n",
    "    Muito obrigado.\"\"\"\n",
    "\n",
    "resposta = analisar_figuras(discurso)"
   ],
   "id": "c655de6b9f29e86a",
   "outputs": [],
   "execution_count": 2
  },
  {
   "metadata": {},
   "cell_type": "markdown",
   "source": "Código parece ok!!!",
   "id": "30dd5faf3a3e9e7"
  },
  {
   "metadata": {
    "ExecuteTime": {
     "end_time": "2025-08-26T17:44:11.138092Z",
     "start_time": "2025-08-26T17:44:11.115449Z"
    }
   },
   "cell_type": "code",
   "source": [
    "\n",
    "resposta\n"
   ],
   "id": "5bb982556f8eadd3",
   "outputs": [
    {
     "data": {
      "text/plain": [
       "Response(id='resp_68adf205f4888197ba2701cc6dcd32cf0db59c3784318619', created_at=1756230150.0, error=None, incomplete_details=None, instructions=None, metadata={}, model='gpt-5-2025-08-07', object='response', output=[ResponseReasoningItem(id='rs_68adf206e33481978ad188c25165b9710db59c3784318619', summary=[], type='reasoning', content=None, encrypted_content=None, status=None), ResponseOutputMessage(id='msg_68adf24cb85881978a9697a38edf7fee0db59c3784318619', content=[ResponseOutputText(annotations=[], text='{\"spans\":[{\"label\":\"anafora\",\"start_char\":0,\"end_char\":0,\"text\":\"Ele conseguiu sobreviver, Senador José Serra, graças à mentira; conseguiu sobreviver graças às pedaladas; conseguiu sobreviver graças a toda a artimanha e toda a ação desenvolvida no campo social, iludindo os desempregados, iludindo as pessoas de bem, iludindo os próprios trabalhadores\",\"rationale\":\"Repetição inicial de estruturas para enfatizar: “conseguiu sobreviver” e, em sequência, “iludindo… iludindo… iludindo…”.\",\"cues\":[\"conseguiu sobreviver\",\"iludindo\"],\"confidence\":0.86},{\"label\":\"anafora\",\"start_char\":0,\"end_char\":0,\"text\":\"Imagine você não gostar da autoridade que lhe investiga e, por esse critério, poder decidir que não vai depor quando convocado.\\\\nImagine você não gostar da autoridade que lhe investiga e, por esse critério, poder decidir que não vai depor quando convocado. Imagine-se imbuído do direito de escolher o ministro da Justiça mais adequado as suas conveniências pessoais\",\"rationale\":\"Repetição do iniciador “Imagine”/“Imagine-se” no começo de frases sucessivas para criar efeito de martelo e visualização hipotética.\",\"cues\":[\"Imagine\",\"Imagine-se\"],\"confidence\":0.9},{\"label\":\"pergunta_retórica\",\"start_char\":0,\"end_char\":0,\"text\":\"Mas como defender, se este Governo passa a ser indefensável?\",\"rationale\":\"Pergunta não espera resposta; serve para reforçar a tese de que o governo é “indefensável”.\",\"cues\":[\"como defender\",\"indefensável\"],\"confidence\":0.85},{\"label\":\"pergunta_retórica\",\"start_char\":0,\"end_char\":0,\"text\":\"Até quando?\",\"rationale\":\"Interrogação aberta usada para indignação e ênfase, sem esperar resposta literal.\",\"cues\":[\"Até quando\"],\"confidence\":0.92},{\"label\":\"hiperbole\",\"start_char\":0,\"end_char\":0,\"text\":\"Cem por cento da credibilidade do Governo está absolutamente perdida\",\"rationale\":\"Exagero absoluto (100%) para intensificar a falta de credibilidade.\",\"cues\":[\"Cem por cento\",\"absolutamente perdida\"],\"confidence\":0.88},{\"label\":\"ironia\",\"start_char\":0,\"end_char\":0,\"text\":\"a “alma mais honesta deste País”\",\"rationale\":\"Expressão atribuída ao personagem é usada em tom crítico/irônico para desqualificar a autoimagem de honestidade.\",\"cues\":[\"aspas\",\"mais honesta\"],\"confidence\":0.82},{\"label\":\"metafora\",\"start_char\":0,\"end_char\":0,\"text\":\"castrar a liberdade dos investigadores\",\"rationale\":\"“Castrar” aplicado à liberdade é transferência figurada de um ato físico para restrição institucional.\",\"cues\":[\"castrar a liberdade\"],\"confidence\":0.86},{\"label\":\"metafora\",\"start_char\":0,\"end_char\":0,\"text\":\"“enquadrar a Polícia Federal”\",\"rationale\":\"“Enquadrar” é imagem de constrição/colocação em moldura aplicada a uma instituição, indicando controle/coerção.\",\"cues\":[\"enquadrar\"],\"confidence\":0.8},{\"label\":\"metafora\",\"start_char\":0,\"end_char\":0,\"text\":\"a moral do País vai virar pó\",\"rationale\":\"Transformação em “pó” é imagem figurada de completa dissolução/ruína moral.\",\"cues\":[\"vai virar pó\"],\"confidence\":0.9},{\"label\":\"analogia\",\"start_char\":0,\"end_char\":0,\"text\":\"como a confundir tribunais com uma peleja futebolística\",\"rationale\":\"Compara o ambiente jurídico a uma partida de futebol para criticar o tratamento dado aos juízes.\",\"cues\":[\"como\",\"peleja futebolística\"],\"confidence\":0.83},{\"label\":\"antitese\",\"start_char\":0,\"end_char\":0,\"text\":\"Mortais comuns não podem contar com tais regalias. Já petistas de alta patente como Lula e Dilma demonstram compartilhar desse pensamento\",\"rationale\":\"Contraposição entre “mortais comuns” e “petistas de alta patente”, ressaltando desigualdade de tratamento.\",\"cues\":[\"Mortais comuns\",\"alta patente\"],\"confidence\":0.78},{\"label\":\"gradacao\",\"start_char\":0,\"end_char\":0,\"text\":\"Prefere atacar com impropérios. Intimidar com ameaças. Tripudiar. Posar de vítima “das elites” e instigar chicanas\",\"rationale\":\"Sequência de ações em crescendo que reforça a crítica por acumulação.\",\"cues\":[\"atacar\",\"Intimidar\",\"Tripudiar\",\"Posar\",\"instigar\"],\"confidence\":0.84},{\"label\":\"apelo_popular\",\"start_char\":0,\"end_char\":0,\"text\":\"Queremos todos os brasileiros nas ruas, no dia 13 de março.\",\"rationale\":\"Chamada direta à mobilização popular nas ruas em data específica.\",\"cues\":[\"Queremos\",\"todos os brasileiros\",\"nas ruas\"],\"confidence\":0.93},{\"label\":\"apelo_popular\",\"start_char\":0,\"end_char\":0,\"text\":\"Vamos todos, com nossas bandeiras, com nosso grito, com nossa coragem, com nossa humildade, mas principalmente com nossa honra, dizer: chega de PT! Chega, Dilma! Não queremos mais!\",\"rationale\":\"Convocação coletiva e imperativa, com palavras de ordem/refrões para engajar a audiência.\",\"cues\":[\"Vamos todos\",\"chega\",\"Não queremos mais\"],\"confidence\":0.94},{\"label\":\"eufemismo\",\"start_char\":0,\"end_char\":0,\"text\":\"deixar o cargo espontaneamente\",\"rationale\":\"Abrandamento para “renúncia”, evitando o verbo direto “renunciar”.\",\"cues\":[\"deixar o cargo\",\"espontaneamente\"],\"confidence\":0.77},{\"label\":\"metafora\",\"start_char\":0,\"end_char\":0,\"text\":\"aquele que abre o jogo, que conta a verdade\",\"rationale\":\"“Abrir o jogo” é expressão esportiva metafórica para revelar a verdade.\",\"cues\":[\"abre o jogo\"],\"confidence\":0.81},{\"label\":\"aliteracao\",\"start_char\":0,\"end_char\":0,\"text\":\"Ao invés desse teatro de subterfúgios, pedalando na defesa e escondendo os pedalinhos\",\"rationale\":\"Reiteração do som /ped/ em “pedalando/pedalinhos” cria efeito sonoro e jogo de palavras.\",\"cues\":[\"pedalando\",\"pedalinhos\"],\"confidence\":0.72},{\"label\":\"metonimia\",\"start_char\":0,\"end_char\":0,\"text\":\"as ruas do Brasil não estão\",\"rationale\":\"“Ruas” representa metonimicamente a população que se manifesta nelas.\",\"cues\":[\"as ruas do Brasil\"],\"confidence\":0.8},{\"label\":\"prosopopeia\",\"start_char\":0,\"end_char\":0,\"text\":\"Diz o editorial da revista IstoÉ, editada hoje:\",\"rationale\":\"Atribui-se ato de fala humano (“dizer”) ao editorial como entidade.\",\"cues\":[\"Diz o editorial\"],\"confidence\":0.76},{\"label\":\"metonimia\",\"start_char\":0,\"end_char\":0,\"text\":\"a V. Exª, a todos os Senadores e ao Brasil inteiro\",\"rationale\":\"“Brasil inteiro” designa, por metonímia, a totalidade da população brasileira.\",\"cues\":[\"Brasil inteiro\"],\"confidence\":0.7}]}', type='output_text', logprobs=[])], role='assistant', status='completed', type='message')], parallel_tool_calls=True, temperature=1.0, tool_choice='auto', tools=[], top_p=1.0, background=False, max_output_tokens=None, max_tool_calls=None, previous_response_id=None, prompt=None, prompt_cache_key=None, reasoning=Reasoning(effort='medium', generate_summary=None, summary=None), safety_identifier=None, service_tier='auto', status='completed', text=ResponseTextConfig(format=ResponseFormatTextJSONSchemaConfig(name='FigurasLinguagem', schema_={'type': 'object', 'properties': {'spans': {'type': 'array', 'title': 'Spans', 'items': {'$ref': '#/$defs/Span'}}}, 'required': ['spans'], 'additionalProperties': False, '$defs': {'Span': {'type': 'object', 'title': 'Span', 'properties': {'label': {'type': 'string', 'title': 'Label', 'enum': ['metafora', 'metonimia', 'hiperbole', 'ironia', 'antitese', 'paradoxo', 'anafora', 'aliteracao', 'eufemismo', 'gradacao', 'prosopopeia', 'pergunta_retórica', 'apelo_popular', 'analogia', 'assonancia']}, 'start_char': {'type': 'integer', 'title': 'Start Char', 'minimum': 0}, 'end_char': {'type': 'integer', 'title': 'End Char', 'minimum': 0}, 'text': {'type': 'string', 'title': 'Text'}, 'rationale': {'anyOf': [{'type': 'string'}, {'type': 'null'}], 'default': None, 'title': 'Rationale'}, 'cues': {'type': 'array', 'title': 'Cues', 'items': {'type': 'string'}, 'default': []}, 'confidence': {'type': 'number', 'title': 'Confidence', 'minimum': 0, 'maximum': 1}}, 'required': ['label', 'start_char', 'end_char', 'text', 'rationale', 'cues', 'confidence'], 'additionalProperties': False}}}, type='json_schema', description=None, strict=True), verbosity='medium'), top_logprobs=0, truncation='disabled', usage=ResponseUsage(input_tokens=3030, input_tokens_details=InputTokensDetails(cached_tokens=0), output_tokens=6242, output_tokens_details=OutputTokensDetails(reasoning_tokens=4608), total_tokens=9272), user=None, store=True)"
      ]
     },
     "execution_count": 3,
     "metadata": {},
     "output_type": "execute_result"
    }
   ],
   "execution_count": 3
  },
  {
   "metadata": {
    "ExecuteTime": {
     "end_time": "2025-08-26T17:44:33.972976Z",
     "start_time": "2025-08-26T17:44:33.950309Z"
    }
   },
   "cell_type": "code",
   "source": "spans = resposta.output_text",
   "id": "6a72515b71dd56f",
   "outputs": [],
   "execution_count": 4
  },
  {
   "metadata": {
    "ExecuteTime": {
     "end_time": "2025-08-26T17:44:39.255587Z",
     "start_time": "2025-08-26T17:44:39.230685Z"
    }
   },
   "cell_type": "code",
   "source": "spans",
   "id": "97e562ed28f95a31",
   "outputs": [
    {
     "data": {
      "text/plain": [
       "'{\"spans\":[{\"label\":\"anafora\",\"start_char\":0,\"end_char\":0,\"text\":\"Ele conseguiu sobreviver, Senador José Serra, graças à mentira; conseguiu sobreviver graças às pedaladas; conseguiu sobreviver graças a toda a artimanha e toda a ação desenvolvida no campo social, iludindo os desempregados, iludindo as pessoas de bem, iludindo os próprios trabalhadores\",\"rationale\":\"Repetição inicial de estruturas para enfatizar: “conseguiu sobreviver” e, em sequência, “iludindo… iludindo… iludindo…”.\",\"cues\":[\"conseguiu sobreviver\",\"iludindo\"],\"confidence\":0.86},{\"label\":\"anafora\",\"start_char\":0,\"end_char\":0,\"text\":\"Imagine você não gostar da autoridade que lhe investiga e, por esse critério, poder decidir que não vai depor quando convocado.\\\\nImagine você não gostar da autoridade que lhe investiga e, por esse critério, poder decidir que não vai depor quando convocado. Imagine-se imbuído do direito de escolher o ministro da Justiça mais adequado as suas conveniências pessoais\",\"rationale\":\"Repetição do iniciador “Imagine”/“Imagine-se” no começo de frases sucessivas para criar efeito de martelo e visualização hipotética.\",\"cues\":[\"Imagine\",\"Imagine-se\"],\"confidence\":0.9},{\"label\":\"pergunta_retórica\",\"start_char\":0,\"end_char\":0,\"text\":\"Mas como defender, se este Governo passa a ser indefensável?\",\"rationale\":\"Pergunta não espera resposta; serve para reforçar a tese de que o governo é “indefensável”.\",\"cues\":[\"como defender\",\"indefensável\"],\"confidence\":0.85},{\"label\":\"pergunta_retórica\",\"start_char\":0,\"end_char\":0,\"text\":\"Até quando?\",\"rationale\":\"Interrogação aberta usada para indignação e ênfase, sem esperar resposta literal.\",\"cues\":[\"Até quando\"],\"confidence\":0.92},{\"label\":\"hiperbole\",\"start_char\":0,\"end_char\":0,\"text\":\"Cem por cento da credibilidade do Governo está absolutamente perdida\",\"rationale\":\"Exagero absoluto (100%) para intensificar a falta de credibilidade.\",\"cues\":[\"Cem por cento\",\"absolutamente perdida\"],\"confidence\":0.88},{\"label\":\"ironia\",\"start_char\":0,\"end_char\":0,\"text\":\"a “alma mais honesta deste País”\",\"rationale\":\"Expressão atribuída ao personagem é usada em tom crítico/irônico para desqualificar a autoimagem de honestidade.\",\"cues\":[\"aspas\",\"mais honesta\"],\"confidence\":0.82},{\"label\":\"metafora\",\"start_char\":0,\"end_char\":0,\"text\":\"castrar a liberdade dos investigadores\",\"rationale\":\"“Castrar” aplicado à liberdade é transferência figurada de um ato físico para restrição institucional.\",\"cues\":[\"castrar a liberdade\"],\"confidence\":0.86},{\"label\":\"metafora\",\"start_char\":0,\"end_char\":0,\"text\":\"“enquadrar a Polícia Federal”\",\"rationale\":\"“Enquadrar” é imagem de constrição/colocação em moldura aplicada a uma instituição, indicando controle/coerção.\",\"cues\":[\"enquadrar\"],\"confidence\":0.8},{\"label\":\"metafora\",\"start_char\":0,\"end_char\":0,\"text\":\"a moral do País vai virar pó\",\"rationale\":\"Transformação em “pó” é imagem figurada de completa dissolução/ruína moral.\",\"cues\":[\"vai virar pó\"],\"confidence\":0.9},{\"label\":\"analogia\",\"start_char\":0,\"end_char\":0,\"text\":\"como a confundir tribunais com uma peleja futebolística\",\"rationale\":\"Compara o ambiente jurídico a uma partida de futebol para criticar o tratamento dado aos juízes.\",\"cues\":[\"como\",\"peleja futebolística\"],\"confidence\":0.83},{\"label\":\"antitese\",\"start_char\":0,\"end_char\":0,\"text\":\"Mortais comuns não podem contar com tais regalias. Já petistas de alta patente como Lula e Dilma demonstram compartilhar desse pensamento\",\"rationale\":\"Contraposição entre “mortais comuns” e “petistas de alta patente”, ressaltando desigualdade de tratamento.\",\"cues\":[\"Mortais comuns\",\"alta patente\"],\"confidence\":0.78},{\"label\":\"gradacao\",\"start_char\":0,\"end_char\":0,\"text\":\"Prefere atacar com impropérios. Intimidar com ameaças. Tripudiar. Posar de vítima “das elites” e instigar chicanas\",\"rationale\":\"Sequência de ações em crescendo que reforça a crítica por acumulação.\",\"cues\":[\"atacar\",\"Intimidar\",\"Tripudiar\",\"Posar\",\"instigar\"],\"confidence\":0.84},{\"label\":\"apelo_popular\",\"start_char\":0,\"end_char\":0,\"text\":\"Queremos todos os brasileiros nas ruas, no dia 13 de março.\",\"rationale\":\"Chamada direta à mobilização popular nas ruas em data específica.\",\"cues\":[\"Queremos\",\"todos os brasileiros\",\"nas ruas\"],\"confidence\":0.93},{\"label\":\"apelo_popular\",\"start_char\":0,\"end_char\":0,\"text\":\"Vamos todos, com nossas bandeiras, com nosso grito, com nossa coragem, com nossa humildade, mas principalmente com nossa honra, dizer: chega de PT! Chega, Dilma! Não queremos mais!\",\"rationale\":\"Convocação coletiva e imperativa, com palavras de ordem/refrões para engajar a audiência.\",\"cues\":[\"Vamos todos\",\"chega\",\"Não queremos mais\"],\"confidence\":0.94},{\"label\":\"eufemismo\",\"start_char\":0,\"end_char\":0,\"text\":\"deixar o cargo espontaneamente\",\"rationale\":\"Abrandamento para “renúncia”, evitando o verbo direto “renunciar”.\",\"cues\":[\"deixar o cargo\",\"espontaneamente\"],\"confidence\":0.77},{\"label\":\"metafora\",\"start_char\":0,\"end_char\":0,\"text\":\"aquele que abre o jogo, que conta a verdade\",\"rationale\":\"“Abrir o jogo” é expressão esportiva metafórica para revelar a verdade.\",\"cues\":[\"abre o jogo\"],\"confidence\":0.81},{\"label\":\"aliteracao\",\"start_char\":0,\"end_char\":0,\"text\":\"Ao invés desse teatro de subterfúgios, pedalando na defesa e escondendo os pedalinhos\",\"rationale\":\"Reiteração do som /ped/ em “pedalando/pedalinhos” cria efeito sonoro e jogo de palavras.\",\"cues\":[\"pedalando\",\"pedalinhos\"],\"confidence\":0.72},{\"label\":\"metonimia\",\"start_char\":0,\"end_char\":0,\"text\":\"as ruas do Brasil não estão\",\"rationale\":\"“Ruas” representa metonimicamente a população que se manifesta nelas.\",\"cues\":[\"as ruas do Brasil\"],\"confidence\":0.8},{\"label\":\"prosopopeia\",\"start_char\":0,\"end_char\":0,\"text\":\"Diz o editorial da revista IstoÉ, editada hoje:\",\"rationale\":\"Atribui-se ato de fala humano (“dizer”) ao editorial como entidade.\",\"cues\":[\"Diz o editorial\"],\"confidence\":0.76},{\"label\":\"metonimia\",\"start_char\":0,\"end_char\":0,\"text\":\"a V. Exª, a todos os Senadores e ao Brasil inteiro\",\"rationale\":\"“Brasil inteiro” designa, por metonímia, a totalidade da população brasileira.\",\"cues\":[\"Brasil inteiro\"],\"confidence\":0.7}]}'"
      ]
     },
     "execution_count": 5,
     "metadata": {},
     "output_type": "execute_result"
    }
   ],
   "execution_count": 5
  },
  {
   "metadata": {},
   "cell_type": "markdown",
   "source": [
    "**Markdown protótipo 1: com citação de autoridade**\n",
    "\n",
    "\n",
    "\n",
    "| Label                 | Texto                                                                                               | Rationale                                                                                           | Cues                                                   | Confiança |\n",
    "|------------------------|----------------------------------------------------------------------------------------------------|-----------------------------------------------------------------------------------------------------|--------------------------------------------------------|-----------|\n",
    "| citacao_de_autoridade  | Para encerrar, Sr. Presidente ... Diz o editorial da revista IstoÉ, editada hoje:                   | O orador invoca o editorial de uma revista de grande circulação como fonte legitimadora do argumento. | \"Diz o editorial da revista IstoÉ\"; menção explícita    | 0.9       |\n",
    "| citacao_de_autoridade  | Imagine você não gostar da autoridade que lhe investiga ... É preciso um basta à depravação política. | Trecho integral do editorial citado como sustentação de autoridade para o argumento político do orador. | trecho em citação extensa; voz de terceiro (revista)    | 0.9       |\n",
    "| anafora                | Imagine você não gostar ... Imagine você não gostar ... Imagine-se imbuído ...                     | Repetição do verbo \"imaginar\" no início de frases sucessivas para enfatizar um cenário hipotético.    | repetição de \"Imagine\" no início de períodos            | 0.95      |\n",
    "| anafora                | conseguiu sobreviver, graças à mentira; conseguiu sobreviver graças às pedaladas; conseguiu sobreviver graças a toda a artimanha... | Repetição de estrutura frásica (\"conseguiu sobreviver graças a...\") para intensificar a acusação.    | repetição de \"conseguiu sobreviver graças a\"            | 0.9       |\n",
    "| anafora                | uma vitória à base de mentira, uma vitória à base de falácia.                                      | Repetição de \"uma vitória\" para reforçar a tese de ilegitimidade eleitoral.                          | repetição de \"uma vitória\"                             | 0.85      |\n",
    "| anafora                | Chega de PT! Chega, Dilma!                                                                        | Repetição de \"Chega\" no início de enunciados curtos para conclamar o público.                        | repetição do imperativo \"Chega\"                         | 0.9       |\n",
    "| hiperbole              | Cem por cento da credibilidade do Governo está absolutamente perdida                              | Exagero absoluto (100%) para intensificar a perda de credibilidade.                                 | quantificação absoluta; advérbio \"absolutamente\"        | 0.95      |\n",
    "| hiperbole              | a moral do País vai virar pó                                                                      | Exagero figurativo para exprimir degradação total da moral pública.                                 | imagem de aniquilação total \"virar pó\"                  | 0.8       |\n",
    "| metafora               | castrar a liberdade dos investigadores                                                            | Metáfora de mutilação para representar cerceamento institucional.                                   | verbo \"castrar\" aplicado à \"liberdade\"                  | 0.95      |\n",
    "| metafora               | sumariamente ejetado da pasta                                                                     | Imagem de expulsão mecânica para significar demissão.                                               | verbo \"ejetado\" aplicado a cargo                        | 0.8       |\n",
    "| metafora               | sensação de pairar acima da lei                                                                   | Imagem espacial (acima) para indicar pretensa superioridade à ordem jurídica.                       | \"pairar acima da lei\"                                  | 0.9       |\n",
    "| metafora               | teatro de subterfúgios                                                                           | Representação da política como encenação para sugerir falsidade.                                   | substantivo \"teatro\" aplicado a práticas políticas      | 0.75      |\n",
    "| sarcasmo               | o onipresente detentor da “alma mais honesta deste País”                                          | Uso irônico de autoatribuição elogiosa para desqualificar o personagem.                            | aspas irônicas; hipérbole invertida                     | 0.9       |\n",
    "| pergunta_retórica      | Até quando?                                                                                       | Interrogação sem expectativa de resposta literal, usada para clamar por mudança.                    | pergunta isolada e genérica                             | 0.95      |\n",
    "| antitese               | Mortais comuns não podem contar com tais regalias. Já petistas de alta patente ...                | Contraposição entre \"mortais comuns\" e \"petistas de alta patente\" para acentuar privilégio.         | comuns vs. alta patente                                 | 0.8       |\n",
    "| metonimia              | as ruas do Brasil não estão [silenciosas]                                                         | \"Ruas\" no lugar de \"povo nas ruas\" (a parte pelo todo) para indicar mobilização popular.            | uso de \"ruas\" como sinédoque do povo                    | 0.75      |\n",
    "| eufemismo              | deixar o cargo espontaneamente                                                                   | Abrandamento de \"renunciar\" ou \"sair\" com expressão mitigadora.                                    | verbo \"deixar\"; advérbio \"espontaneamente\"              | 0.8       |\n",
    "| gradacao               | Prefere atacar com impropérios. Intimidar com ameaças. Tripudiar.                                 | Sequência de ações com intensificação semântica, criando efeito cumulativo.                        | lista paratática crescente                              | 0.8       |\n",
    "| apelo_popular          | Queremos todos os brasileiros nas ruas, no dia 13 de março. Vamos todos, com nossas bandeiras...  | Convocação direta da população para manifestação, buscando adesão emocional/coletiva.               | \"vamos todos\"; convite à rua com data                   | 0.95      |\n"
   ],
   "id": "4f649577d68ad482"
  },
  {
   "metadata": {},
   "cell_type": "markdown",
   "source": [
    "**Markdown protótipo 2: sem citação de autoridade**\n",
    "\n",
    "\n",
    "\n",
    "| Label             | Texto                                                                                                                                                                                                                      | Rationale                                                                                                        | Cues                                           | Confiança |\n",
    "|-------------------|-----------------------------------------------------------------------------------------------------------------------------------------------------------------------------------|------------------------------------------------------------------------------------------------------------------|------------------------------------------------|-----------|\n",
    "| anafora           | Ele conseguiu sobreviver, Senador José Serra, graças à mentira; conseguiu sobreviver graças às pedaladas; conseguiu sobreviver graças a toda a artimanha e toda a ação desenvolvida no campo social, iludindo os desempregados, iludindo as pessoas de bem, iludindo os próprios trabalhadores | Repetição inicial de estruturas para enfatizar: “conseguiu sobreviver” e, em sequência, “iludindo… iludindo…”.   | conseguiu sobreviver; iludindo                 | 0.86      |\n",
    "| anafora           | Imagine você não gostar da autoridade que lhe investiga [...] Imagine-se imbuído do direito de escolher o ministro da Justiça mais adequado às suas conveniências pessoais                                                 | Repetição do iniciador “Imagine”/“Imagine-se” no começo de frases sucessivas para criar efeito de martelo.        | Imagine; Imagine-se                            | 0.9       |\n",
    "| pergunta_retórica | Mas como defender, se este Governo passa a ser indefensável?                                                                                                                       | Pergunta não espera resposta; reforça a tese de que o governo é “indefensável”.                                 | como defender; indefensável                    | 0.85      |\n",
    "| pergunta_retórica | Até quando?                                                                                                                                                                       | Interrogação aberta usada para indignação e ênfase, sem esperar resposta literal.                               | Até quando                                    | 0.92      |\n",
    "| hiperbole         | Cem por cento da credibilidade do Governo está absolutamente perdida                                                                                                              | Exagero absoluto (100%) para intensificar a falta de credibilidade.                                             | Cem por cento; absolutamente perdida           | 0.88      |\n",
    "| ironia            | a “alma mais honesta deste País”                                                                                                                                                   | Expressão atribuída ao personagem em tom crítico/irônico para desqualificar a autoimagem de honestidade.         | aspas; mais honesta                            | 0.82      |\n",
    "| metafora          | castrar a liberdade dos investigadores                                                                                                                                            | “Castrar” aplicado à liberdade é metáfora de restrição institucional.                                           | castrar a liberdade                            | 0.86      |\n",
    "| metafora          | “enquadrar a Polícia Federal”                                                                                                                                                      | “Enquadrar” é imagem de constrição/colocação em moldura aplicada a uma instituição, indicando controle.          | enquadrar                                     | 0.8       |\n",
    "| metafora          | a moral do País vai virar pó                                                                                                                                                       | Transformação em “pó” é imagem figurada de completa dissolução/ruína moral.                                     | vai virar pó                                   | 0.9       |\n",
    "| analogia          | como a confundir tribunais com uma peleja futebolística                                                                                                                            | Compara o ambiente jurídico a uma partida de futebol para criticar o tratamento dado aos juízes.                | como; peleja futebolística                     | 0.83      |\n",
    "| antitese          | Mortais comuns não podem contar com tais regalias. Já petistas de alta patente como Lula e Dilma demonstram compartilhar desse pensamento                                          | Contraposição entre “mortais comuns” e “petistas de alta patente”, ressaltando desigualdade de tratamento.       | Mortais comuns; alta patente                   | 0.78      |\n",
    "| gradacao          | Prefere atacar com impropérios. Intimidar com ameaças. Tripudiar. Posar de vítima “das elites” e instigar chicanas                                                                 | Sequência de ações em crescendo que reforça a crítica por acumulação.                                           | atacar; Intimidar; Tripudiar; Posar; instigar  | 0.84      |\n",
    "| apelo_popular     | Queremos todos os brasileiros nas ruas, no dia 13 de março.                                                                                                                        | Chamada direta à mobilização popular nas ruas em data específica.                                               | Queremos; todos os brasileiros; nas ruas       | 0.93      |\n",
    "| apelo_popular     | Vamos todos, com nossas bandeiras [...] dizer: chega de PT! Chega, Dilma! Não queremos mais!                                                                                       | Convocação coletiva e imperativa, com refrões para engajar a audiência.                                         | Vamos todos; chega; Não queremos mais          | 0.94      |\n",
    "| eufemismo         | deixar o cargo espontaneamente                                                                                                                                                     | Abrandamento para “renúncia”, evitando o verbo direto “renunciar”.                                              | deixar o cargo; espontaneamente                | 0.77      |\n",
    "| metafora          | aquele que abre o jogo, que conta a verdade                                                                                                                                        | “Abrir o jogo” é metáfora esportiva para revelar a verdade.                                                     | abre o jogo                                   | 0.81      |\n",
    "| aliteracao        | Ao invés desse teatro de subterfúgios, pedalando na defesa e escondendo os pedalinhos                                                                                             | Reiteração do som /ped/ em “pedalando/pedalinhos” cria efeito sonoro e jogo de palavras.                        | pedalando; pedalinhos                          | 0.72      |\n",
    "| metonimia         | as ruas do Brasil não estão                                                                                                                                                        | “Ruas” representa metonimicamente a população que se manifesta nelas.                                           | as ruas do Brasil                             | 0.8       |\n",
    "| prosopopeia       | Diz o editorial da revista IstoÉ, editada hoje:                                                                                                                                    | Atribui-se ato de fala humano (“dizer”) ao editorial como entidade.                                             | Diz o editorial                               | 0.76      |\n",
    "| metonimia         | a V. Exª, a todos os Senadores e ao Brasil inteiro                                                                                                                                 | “Brasil inteiro” designa, por metonímia, a totalidade da população brasileira.                                  | Brasil inteiro                                | 0.7       |\n"
   ],
   "id": "9ac928ae28b88389"
  },
  {
   "metadata": {},
   "cell_type": "markdown",
   "source": [
    "## **Preparar lista de figuras**\n",
    "\n",
    "### *Lista dos colegas*\n",
    "\n",
    "\n",
    "### - *Comparar com lista do protótipo 1*\n",
    "\n",
    "| Protótipo 1             | Lista do grupo |\n",
    "|--------------------------|----------------|\n",
    "| metafora                 | Metáfora       |\n",
    "| metonimia                | Metonímia      |\n",
    "| hiperbole                | Hipérbole      |\n",
    "| ironia                   | Ironia         |\n",
    "| antitese                 | Antítese       |\n",
    "| paradoxo                 | Paradoxo       |\n",
    "| anafora                  | Anáfora        |\n",
    "| aliteracao               | Aliteração     |\n",
    "| eufemismo                | Eufemismo      |\n",
    "| gradacao                 | —              |\n",
    "| prosopopeia              | Prosopopeia    |\n",
    "| pergunta_retórica        | —              |\n",
    "| citacao_de_autoridade    | —              |\n",
    "| apelo_popular            | —              |\n",
    "| analogia                 | —              |\n",
    "| parodia                  | —              |\n",
    "| sarcasmo                 | —              |\n",
    "| —                        | Assonância     |\n",
    "| —                        | Tricólon       |\n",
    "| —                        | Trocadilho     |\n",
    "| —                        | Elipse         |\n",
    "| —                        | Pleonasmo      |\n"
   ],
   "id": "57c934018409220f"
  },
  {
   "metadata": {},
   "cell_type": "markdown",
   "source": [
    "## **Preparar código**\n",
    "### *Preparar prompt*\n",
    "### *Preparar estrutura*\n",
    "### *Consolidar código*\n",
    "### *Testar*\n",
    "### *Verificar com colegas*"
   ],
   "id": "bd05e61f3efa83c"
  },
  {
   "metadata": {},
   "cell_type": "markdown",
   "source": [
    "## **Selecionar amostragem**\n",
    "### *Definir critérios*\n",
    "### *Estimar preço*\n",
    "#### - Criar tabela e verificar com colegas\n",
    "### *Preparar lote*\n",
    "\n"
   ],
   "id": "fbcb4ec977182944"
  },
  {
   "metadata": {},
   "cell_type": "code",
   "outputs": [],
   "execution_count": null,
   "source": "",
   "id": "5df605db91b81d50"
  },
  {
   "metadata": {},
   "cell_type": "code",
   "outputs": [],
   "execution_count": null,
   "source": [
    " ---------------------------\n",
    "# EXEMPLO DE USO\n",
    "# ---------------------------\n",
    "# Ajuste estes parâmetros conforme seu orçamento:\n",
    "# - pct_per_year: fração por ano (ex.: 0.05 = 5% por ano)\n",
    "# - estimate_output_tokens_per_item: chute de tokens de saída por item (ex.: 300)\n",
    "# - prompt_cached: se True, considera prompt com preço de cached input\n",
    "\"\"\"\n",
    "prompt_base = \\\"\\\"\\\"\"Você é um linguista que analisa figuras de linguagem em discursos no Senado.\"\n",
    "\\\"\\\"\\\"\n",
    "\n",
    "df_amostra, por_ano, totais = sample_discursos_by_year(\n",
    "    db_path=\"data/DiscursosV2.sqlite\",\n",
    "    table=\"Discursos\",\n",
    "    pct_per_year=0.05,                 # 5% por ano\n",
    "    min_words=200,\n",
    "    seed=123,\n",
    "    prompt=prompt_base,\n",
    "    model=\"gpt-5\",\n",
    "    estimate_output_tokens_per_item=300,\n",
    "    prompt_cached=True,\n",
    "    extra_columns=[\"CodigoPronunciamento\"]  # caso exista; senão, remova\n",
    ")\n",
    "\n",
    "# Visualização rápida:\n",
    "display(por_ano)\n",
    "display(totais)\n",
    "\n",
    "# As 5 primeiras linhas da amostra:\n",
    "df_amostra.head()[[\"Ano\", \"Data\", \"n_tokens_texto\", \"n_tokens_prompt\", \"est_custo_total_usd\"]]\n",
    "\"\"\"\n"
   ],
   "id": "111bf4c434386941"
  },
  {
   "metadata": {},
   "cell_type": "markdown",
   "source": [
    "## **Processar**\n",
    "### *Submeter lote ao LLM*\n",
    "\n"
   ],
   "id": "745d9c8f98788763"
  },
  {
   "metadata": {},
   "cell_type": "markdown",
   "source": "",
   "id": "10ea804155884efd"
  },
  {
   "metadata": {},
   "cell_type": "markdown",
   "source": "",
   "id": "31561bb57e1b9bd7"
  },
  {
   "metadata": {},
   "cell_type": "markdown",
   "source": "",
   "id": "ec37960f177fc6d6"
  },
  {
   "metadata": {},
   "cell_type": "markdown",
   "source": "",
   "id": "4a571e0de181a80f"
  }
 ],
 "metadata": {
  "kernelspec": {
   "display_name": "Python 3",
   "language": "python",
   "name": "python3"
  },
  "language_info": {
   "codemirror_mode": {
    "name": "ipython",
    "version": 2
   },
   "file_extension": ".py",
   "mimetype": "text/x-python",
   "name": "python",
   "nbconvert_exporter": "python",
   "pygments_lexer": "ipython2",
   "version": "2.7.6"
  }
 },
 "nbformat": 4,
 "nbformat_minor": 5
}
